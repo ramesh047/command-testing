{
 "cells": [
  {
   "cell_type": "code",
   "execution_count": 4,
   "metadata": {},
   "outputs": [
    {
     "name": "stdout",
     "output_type": "stream",
     "text": [
      "Hello World\n"
     ]
    }
   ],
   "source": [
    "print('Hello World')"
   ]
  },
  {
   "cell_type": "markdown",
   "metadata": {},
   "source": [
    "# The Lagrangian for $\\phi^4$ theory is: \n",
    "\n",
    "$L={(\\partial\\mu\\phi}{(\\partial^\\mu\\phi)}-m^2{\\phi^2}+{\\lambda\\phi^4}$"
   ]
  },
  {
   "cell_type": "markdown",
   "metadata": {},
   "source": [
    "# A Ceremony\n",
    "##  A Ceremony\n",
    "### A Ceremony\n",
    "##### A Ceremony\n",
    "###### A Ceremony\n",
    "#### A Ceremony\n",
    "### A Ceremony\n",
    "## A Ceremony\n",
    "# A Ceremony"
   ]
  },
  {
   "cell_type": "markdown",
   "metadata": {},
   "source": [
    "![img](https://i.gr-assets.com/images/S/compressed.photo.goodreads.com/books/1416873404l/620935.jpg)"
   ]
  },
  {
   "cell_type": "markdown",
   "metadata": {},
   "source": [
    "# The SWE in one dimension is:"
   ]
  },
  {
   "cell_type": "markdown",
   "metadata": {},
   "source": [
    "$-\\frac{\\hbar^2}{2m}\\frac{\\partial^2\\psi}{\\partial x^2}+V\\psi=i\\hbar\\frac{\\partial\\psi}{\\partial t}$"
   ]
  },
  {
   "cell_type": "markdown",
   "metadata": {},
   "source": [
    "# A simple $3\\times3$ matrix"
   ]
  },
  {
   "cell_type": "markdown",
   "metadata": {},
   "source": [
    "$$\n",
    "\\begin{bmatrix} \n",
    "a & b & c \\\\\n",
    "c & d & d\\\\\n",
    "e & f & g \\\\\n",
    "\\end{bmatrix}\n",
    "\\quad\n",
    "$$\n"
   ]
  },
  {
   "cell_type": "markdown",
   "metadata": {},
   "source": [
    "$  \n",
    "\\left[\n",
    "     \\begin{array}{ccc}\n",
    "         \\dfrac{5}{6} & \\dfrac{1}{6} & 0           \\\\\n",
    "         \\dfrac{5}{6} & 0           & \\dfrac{1}{6} \\\\\n",
    "         0           & \\dfrac{5}{6} & \\dfrac{1}{6}\n",
    "        \\end{array}\n",
    "    \\right]$\n",
    "    \n",
    "   \n",
    "   \n",
    " \n",
    "   "
   ]
  },
  {
   "cell_type": "markdown",
   "metadata": {},
   "source": [
    "# Simple Algebra:"
   ]
  },
  {
   "cell_type": "markdown",
   "metadata": {},
   "source": [
    "For any quadratic equation \n",
    "$ax^2+bx+c=0$"
   ]
  },
  {
   "cell_type": "markdown",
   "metadata": {},
   "source": [
    "The solution is given by:\n",
    "    $x=\\frac{{-b}{\\pm}\\sqrt{b^2-4ac}}{2a}$"
   ]
  },
  {
   "cell_type": "markdown",
   "metadata": {},
   "source": [
    "$4\\times5$"
   ]
  },
  {
   "cell_type": "markdown",
   "metadata": {},
   "source": [
    "$9\\times10$"
   ]
  },
  {
   "cell_type": "code",
   "execution_count": null,
   "metadata": {},
   "outputs": [],
   "source": []
  }
 ],
 "metadata": {
  "kernelspec": {
   "display_name": "Python 3",
   "language": "python",
   "name": "python3"
  },
  "language_info": {
   "codemirror_mode": {
    "name": "ipython",
    "version": 3
   },
   "file_extension": ".py",
   "mimetype": "text/x-python",
   "name": "python",
   "nbconvert_exporter": "python",
   "pygments_lexer": "ipython3",
   "version": "3.7.6"
  }
 },
 "nbformat": 4,
 "nbformat_minor": 4
}
